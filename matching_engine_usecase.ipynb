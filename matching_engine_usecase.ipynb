{
  "nbformat": 4,
  "nbformat_minor": 0,
  "metadata": {
    "colab": {
      "name": "matching_engine_usecase.ipynb",
      "provenance": [],
      "collapsed_sections": [],
      "authorship_tag": "ABX9TyPRsnviJi08ySVTmo5xc931",
      "include_colab_link": true
    },
    "kernelspec": {
      "name": "python3",
      "display_name": "Python 3"
    },
    "language_info": {
      "name": "python"
    }
  },
  "cells": [
    {
      "cell_type": "markdown",
      "metadata": {
        "id": "view-in-github",
        "colab_type": "text"
      },
      "source": [
        "<a href=\"https://colab.research.google.com/github/buun1030/matching_engine/blob/main/matching_engine_usecase.ipynb\" target=\"_parent\"><img src=\"https://colab.research.google.com/assets/colab-badge.svg\" alt=\"Open In Colab\"/></a>"
      ]
    },
    {
      "cell_type": "code",
      "metadata": {
        "colab": {
          "base_uri": "https://localhost:8080/"
        },
        "id": "lbMJwNkj_0Wc",
        "outputId": "5135e4d2-1e86-4369-ba16-4f9956e8f8d5"
      },
      "source": [
        "# เชื่อมต่อ Google Colab กับ Google Drive\n",
        "from google.colab import drive\n",
        "drive.mount('/content/drive')"
      ],
      "execution_count": 1,
      "outputs": [
        {
          "output_type": "stream",
          "name": "stdout",
          "text": [
            "Mounted at /content/drive\n"
          ]
        }
      ]
    },
    {
      "cell_type": "code",
      "metadata": {
        "id": "d73gDwff_0QU"
      },
      "source": [
        "xls = pd.ExcelFile('/content/drive/MyDrive/matching_engine_data.xlsx')\n",
        "case1 = pd.read_excel(xls, 'Case1')\n",
        "case2 = pd.read_excel(xls, 'Case2')\n",
        "case3 = pd.read_excel(xls, 'Case3')"
      ],
      "execution_count": 3,
      "outputs": []
    },
    {
      "cell_type": "code",
      "metadata": {
        "id": "esb1iXFXNv_A"
      },
      "source": [
        "df_bid   = pd.DataFrame()\n",
        "df_offer = pd.DataFrame()\n",
        "\n",
        "# Choose use case\n",
        "cx = case1\n",
        "df_bid   = cx[['Bid','VBid']].sort_values(by=['Bid'], ascending=False).reset_index(drop=True)\n",
        "df_offer = cx[['Offer','VOffer']].sort_values(by=['Offer'], ascending=True).reset_index(drop=True)"
      ],
      "execution_count": 68,
      "outputs": []
    },
    {
      "cell_type": "code",
      "metadata": {
        "id": "26JZYFfU_0Mx"
      },
      "source": [
        "def matching_engine(df_bid, df_offer):\n",
        "\n",
        "  # Count number of order book\n",
        "  len_bid   = len(df_bid)\n",
        "  len_offer = len(df_offer)\n",
        "\n",
        "  # Initial accumulated volume\n",
        "  accum_bid_vol   = 0\n",
        "  accum_offer_vol_qm2 = 0\n",
        "  accum_offer_vol_qm1 = 0\n",
        "  accum_offer_vol_qm0 = 0\n",
        "\n",
        "  for p in range(0, len_bid):\n",
        "\n",
        "    # Accumulate bid volume\n",
        "    accum_bid_vol   = accum_bid_vol + df_bid['VBid'][p]\n",
        "\n",
        "    # Reset offer volume each time bid price has changed\n",
        "    accum_offer_vol = 0\n",
        "\n",
        "    for q in range(0, len_offer):\n",
        "\n",
        "      # Accumulate offer volume\n",
        "      if q == 0:\n",
        "        accum_offer_vol_qm2 = df_offer['VOffer'][0]\n",
        "        accum_offer_vol_qm1 = df_offer['VOffer'][0]\n",
        "        accum_offer_vol_qm0 = df_offer['VOffer'][0]\n",
        "      elif q == 1:\n",
        "        accum_offer_vol_qm2 = df_offer['VOffer'][0]\n",
        "        accum_offer_vol_qm1 = df_offer['VOffer'][0]\n",
        "        accum_offer_vol_qm0 = df_offer['VOffer'][0] + df_offer['VOffer'][1]\n",
        "      else:\n",
        "        accum_offer_vol_qm2 = accum_offer_vol_qm1\n",
        "        accum_offer_vol_qm1 = accum_offer_vol_qm0\n",
        "        accum_offer_vol_qm0 = accum_offer_vol_qm0 + df_offer['VOffer'][q]\n",
        "      \n",
        "      # Actually for dedugging\n",
        "      print('Bid_p = ' + str(df_bid['Bid'][p]))\n",
        "      print('Offer_q = ' + str(df_offer['Offer'][q]))\n",
        "      print('accum_bid_vol = ' + str(accum_bid_vol))\n",
        "      print('accum_offer_vol_qm1 = ' + str(accum_offer_vol_qm1))\n",
        "      print('accum_offer_vol_qm2 = ' + str(accum_offer_vol_qm2))\n",
        "      print('---------------------------------------')\n",
        "\n",
        "      # Check wheather bid price already cross offer price\n",
        "      if df_bid['Bid'][p] < df_offer['Offer'][q] and \\\n",
        "        (accum_bid_vol > accum_offer_vol_qm1 or accum_bid_vol > accum_offer_vol_qm2):\n",
        "\n",
        "        # To avoid error index = -1\n",
        "        if q == 0: q = 1\n",
        "\n",
        "        # Calculate market clearing price\n",
        "        mcp = (df_bid['Bid'][p] + df_offer['Offer'][q-1]) / 2\n",
        "\n",
        "        # Show result\n",
        "        print('Bid_p = ' + str(df_bid['Bid'][p]))\n",
        "        print('Offer_qm1 = ' + str(df_offer['Offer'][q-1]))\n",
        "        print('MCP = ' + str(mcp))\n",
        "        print('-----------------Answer----------------')\n",
        "        return"
      ],
      "execution_count": 72,
      "outputs": []
    },
    {
      "cell_type": "code",
      "metadata": {
        "colab": {
          "base_uri": "https://localhost:8080/"
        },
        "id": "MTOHHXQl_0Dd",
        "outputId": "68e278f9-10e0-42d0-ffd3-337b1fe1d871"
      },
      "source": [
        "matching_engine(df_bid, df_offer)"
      ],
      "execution_count": 73,
      "outputs": [
        {
          "output_type": "stream",
          "name": "stdout",
          "text": [
            "Bid_p = 3.74\n",
            "Offer_q = 2.98\n",
            "accum_bid_vol = 34\n",
            "accum_offer_vol_qm1 = 20\n",
            "accum_offer_vol_qm2 = 20\n",
            "---------------------------------------\n",
            "Bid_p = 3.74\n",
            "Offer_q = 3.09\n",
            "accum_bid_vol = 34\n",
            "accum_offer_vol_qm1 = 20\n",
            "accum_offer_vol_qm2 = 20\n",
            "---------------------------------------\n",
            "Bid_p = 3.74\n",
            "Offer_q = 3.12\n",
            "accum_bid_vol = 34\n",
            "accum_offer_vol_qm1 = 50\n",
            "accum_offer_vol_qm2 = 20\n",
            "---------------------------------------\n",
            "Bid_p = 3.74\n",
            "Offer_q = 3.52\n",
            "accum_bid_vol = 34\n",
            "accum_offer_vol_qm1 = 86\n",
            "accum_offer_vol_qm2 = 50\n",
            "---------------------------------------\n",
            "Bid_p = 3.14\n",
            "Offer_q = 2.98\n",
            "accum_bid_vol = 69\n",
            "accum_offer_vol_qm1 = 20\n",
            "accum_offer_vol_qm2 = 20\n",
            "---------------------------------------\n",
            "Bid_p = 3.14\n",
            "Offer_q = 3.09\n",
            "accum_bid_vol = 69\n",
            "accum_offer_vol_qm1 = 20\n",
            "accum_offer_vol_qm2 = 20\n",
            "---------------------------------------\n",
            "Bid_p = 3.14\n",
            "Offer_q = 3.12\n",
            "accum_bid_vol = 69\n",
            "accum_offer_vol_qm1 = 50\n",
            "accum_offer_vol_qm2 = 20\n",
            "---------------------------------------\n",
            "Bid_p = 3.14\n",
            "Offer_q = 3.52\n",
            "accum_bid_vol = 69\n",
            "accum_offer_vol_qm1 = 86\n",
            "accum_offer_vol_qm2 = 50\n",
            "---------------------------------------\n",
            "Bid_p = 3.14\n",
            "Offer_qm1 = 3.12\n",
            "MCP = 3.13\n",
            "-----------------Answer----------------\n"
          ]
        }
      ]
    }
  ]
}