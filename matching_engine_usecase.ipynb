{
  "nbformat": 4,
  "nbformat_minor": 0,
  "metadata": {
    "colab": {
      "name": "matching_engine_usecase.ipynb",
      "provenance": [],
      "collapsed_sections": [],
      "authorship_tag": "ABX9TyNvclpWhEgWk6lra5heBk5H",
      "include_colab_link": true
    },
    "kernelspec": {
      "name": "python3",
      "display_name": "Python 3"
    },
    "language_info": {
      "name": "python"
    }
  },
  "cells": [
    {
      "cell_type": "markdown",
      "metadata": {
        "id": "view-in-github",
        "colab_type": "text"
      },
      "source": [
        "<a href=\"https://colab.research.google.com/github/buun1030/matching_engine/blob/main/matching_engine_usecase.ipynb\" target=\"_parent\"><img src=\"https://colab.research.google.com/assets/colab-badge.svg\" alt=\"Open In Colab\"/></a>"
      ]
    },
    {
      "cell_type": "code",
      "metadata": {
        "id": "lbMJwNkj_0Wc"
      },
      "source": [
        "# เชื่อมต่อ Google Colab กับ Google Drive\n",
        "from google.colab import drive\n",
        "drive.mount('/content/drive')"
      ],
      "execution_count": null,
      "outputs": []
    },
    {
      "cell_type": "code",
      "metadata": {
        "id": "Po7Lw-cDZA_b"
      },
      "source": [
        "!pip install pandasql\n",
        "import pandas as pd\n",
        "import pandasql as ps\n",
        "import numpy as np\n",
        "import re\n",
        "from google.colab import files"
      ],
      "execution_count": null,
      "outputs": []
    },
    {
      "cell_type": "code",
      "metadata": {
        "id": "d73gDwff_0QU"
      },
      "source": [
        "xls = pd.ExcelFile('/content/drive/MyDrive/matching_engine_data.xlsx')\n",
        "case1 = pd.read_excel(xls, 'Case1')\n",
        "case2 = pd.read_excel(xls, 'Case2')\n",
        "case3 = pd.read_excel(xls, 'Case3')\n",
        "case4 = pd.read_excel(xls, 'Case4')\n",
        "case5 = pd.read_excel(xls, 'Case5')\n",
        "case6 = pd.read_excel(xls, 'Case6')\n",
        "case7 = pd.read_excel(xls, 'Case7')\n",
        "case8 = pd.read_excel(xls, 'Case8')"
      ],
      "execution_count": null,
      "outputs": []
    },
    {
      "cell_type": "code",
      "metadata": {
        "id": "esb1iXFXNv_A"
      },
      "source": [
        "df_bid   = pd.DataFrame()\n",
        "df_offer = pd.DataFrame()\n",
        "\n",
        "# Choose use case\n",
        "cx = case7\n",
        "df_bid   = cx[['Bid','VBid']].sort_values(by=['Bid'], ascending=False).reset_index(drop=True)\n",
        "df_offer = cx[['Offer','VOffer']].sort_values(by=['Offer'], ascending=True).reset_index(drop=True)"
      ],
      "execution_count": null,
      "outputs": []
    },
    {
      "cell_type": "code",
      "metadata": {
        "id": "26JZYFfU_0Mx"
      },
      "source": [
        "def matching_engine(df_bid, df_offer):\n",
        "\n",
        "  # Check whether max(Bid) < min(Offer) case\n",
        "  if df_bid['Bid'][0] < df_offer['Offer'][0]:\n",
        "    return 'Dont have MCP'\n",
        "\n",
        "  # Check whether max(Bid) = min(Offer) case\n",
        "  if df_bid['Bid'][0] == df_offer['Offer'][0]:\n",
        "    mcp = df_bid['Bid'][0]\n",
        "    final_vol = min(df_bid['VBid'][0], df_offer['VOffer'][0])\n",
        "    return mcp, final_vol\n",
        "\n",
        "  # Initial variables prevent local var ref error\n",
        "  mcp = 0\n",
        "  final_vol = 0\n",
        "\n",
        "  # Count number of order book\n",
        "  len_bid   = len(df_bid)\n",
        "  len_offer = len(df_offer)\n",
        "\n",
        "  # Total volume\n",
        "  total_bid_vol   = sum(df_bid['VBid'].replace(np.nan, 0))\n",
        "  total_offer_vol = sum(df_offer['VOffer'].replace(np.nan, 0))\n",
        "\n",
        "  # Check whether run out of order case\n",
        "  if total_bid_vol < total_offer_vol:\n",
        "\n",
        "    final_vol = total_bid_vol\n",
        "    # find index\n",
        "    accum_offer_vol = 0\n",
        "    idx = -1\n",
        "    last_idx = 0\n",
        "    while accum_offer_vol < final_vol:\n",
        "      idx = idx + 1\n",
        "      accum_offer_vol = accum_offer_vol + df_offer['VOffer'][idx]\n",
        "    while ~np.isnan(df_bid['Bid'][last_idx]) and last_idx < len_bid-1:\n",
        "      last_idx = last_idx + 1\n",
        "    if np.isnan(df_bid['Bid'][last_idx]):\n",
        "      last_idx = last_idx - 1\n",
        "    if df_bid['Bid'][last_idx] >= df_offer['Offer'][idx]:\n",
        "      mcp = (df_bid['Bid'][last_idx] + df_offer['Offer'][idx]) / 2\n",
        "      return mcp, final_vol\n",
        "  else:\n",
        "\n",
        "    final_vol = total_offer_vol\n",
        "    # find index\n",
        "    accum_bid_vol = 0\n",
        "    idx = -1\n",
        "    last_idx = 0\n",
        "    while accum_bid_vol < final_vol:\n",
        "      idx = idx + 1\n",
        "      accum_bid_vol = accum_bid_vol + df_bid['VBid'][idx]\n",
        "    while ~np.isnan(df_offer['Offer'][last_idx]) and last_idx < len_offer-1:\n",
        "      last_idx = last_idx + 1\n",
        "    if np.isnan(df_offer['Offer'][last_idx]):\n",
        "      last_idx = last_idx - 1\n",
        "    if df_bid['Bid'][idx] >= df_offer['Offer'][last_idx]:\n",
        "      mcp = (df_bid['Bid'][idx] + df_offer['Offer'][last_idx]) / 2\n",
        "      return mcp, final_vol \n",
        "  \n",
        "  # Initial accumulated volume\n",
        "  accum_bid_vol   = 0\n",
        "  accum_offer_vol_qm2 = 0\n",
        "  accum_offer_vol_qm1 = 0\n",
        "  accum_offer_vol_qm0 = 0\n",
        "\n",
        "  for p in range(0, len_bid):\n",
        "\n",
        "    # Accumulate bid volume\n",
        "    accum_bid_vol   = accum_bid_vol + df_bid['VBid'][p]\n",
        "\n",
        "    # Reset offer volume each time bid price has changed\n",
        "    accum_offer_vol = 0\n",
        "\n",
        "    for q in range(0, len_offer):\n",
        "\n",
        "      # Accumulate offer volume\n",
        "      if q == 0:\n",
        "        accum_offer_vol_qm2 = df_offer['VOffer'][0]\n",
        "        accum_offer_vol_qm1 = df_offer['VOffer'][0]\n",
        "        accum_offer_vol_qm0 = df_offer['VOffer'][0]\n",
        "      elif q == 1:\n",
        "        accum_offer_vol_qm2 = df_offer['VOffer'][0]\n",
        "        accum_offer_vol_qm1 = df_offer['VOffer'][0]\n",
        "        accum_offer_vol_qm0 = df_offer['VOffer'][0] + df_offer['VOffer'][1]\n",
        "      else:\n",
        "        accum_offer_vol_qm2 = accum_offer_vol_qm1\n",
        "        accum_offer_vol_qm1 = accum_offer_vol_qm0\n",
        "        accum_offer_vol_qm0 = accum_offer_vol_qm0 + df_offer['VOffer'][q]\n",
        "      \n",
        "      # Actually for dedugging\n",
        "      print('Bid_p = ' + str(df_bid['Bid'][p]))\n",
        "      print('Offer_q = ' + str(df_offer['Offer'][q]))\n",
        "      print('accum_bid_vol = ' + str(accum_bid_vol))\n",
        "      print('accum_offer_vol_qm1 = ' + str(accum_offer_vol_qm1))\n",
        "      print('accum_offer_vol_qm2 = ' + str(accum_offer_vol_qm2))\n",
        "      print('---------------------------------------')\n",
        "\n",
        "      # To avoid error\n",
        "      if q < 2:\n",
        "        qmi1 = 0\n",
        "        qmi2 = 0\n",
        "      else:\n",
        "        qmi1 = q-1\n",
        "        qmi2 = q-2\n",
        "\n",
        "      # Check wheather bid price already cross offer price\n",
        "      if df_bid['Bid'][p] <= df_offer['Offer'][q] and \\\n",
        "        (df_bid['Bid'][p] >= df_offer['Offer'][qmi1] or q-1 < 0) and \\\n",
        "        (accum_bid_vol >= accum_offer_vol_qm1 or \\\n",
        "        (accum_bid_vol <= accum_offer_vol_qm1 and \\\n",
        "         accum_bid_vol >= accum_offer_vol_qm2)):\n",
        "         \n",
        "\n",
        "        # Calculate market clearing price\n",
        "        if df_bid['Bid'][p] == df_offer['Offer'][q] and accum_bid_vol >= accum_offer_vol_qm0:\n",
        "          mcp = df_bid['Bid'][p]\n",
        "          final_vol = accum_offer_vol_qm0\n",
        "        elif df_bid['Bid'][p] == df_offer['Offer'][q] and accum_bid_vol >= accum_offer_vol_qm1:\n",
        "          mcp = df_bid['Bid'][p]\n",
        "          final_vol = accum_bid_vol\n",
        "        elif accum_bid_vol <= accum_offer_vol_qm1 and accum_bid_vol == accum_offer_vol_qm2:\n",
        "          mcp = (df_bid['Bid'][p] + df_offer['Offer'][qmi2]) / 2\n",
        "          final_vol = accum_bid_vol\n",
        "        else:\n",
        "          mcp = (df_bid['Bid'][p] + df_offer['Offer'][qmi1]) / 2\n",
        "          final_vol = min(accum_bid_vol, accum_offer_vol_qm1)\n",
        "\n",
        "        #bid_zone1_result = matching_result(df_bid, mcp, final_vol)\n",
        "        #offer_zone1_result = matching_result(df_offer, mcp, final_vol)\n",
        "\n",
        "        # Show result\n",
        "        print('Bid_price = ' + str(df_bid['Bid'][p]))\n",
        "        print('Offer_price = ' + str(df_offer['Offer'][qmi1]))\n",
        "        print('Bid_vol = ' + str(accum_bid_vol))\n",
        "        print('Offer_vol = ' + str(accum_offer_vol_qm1))\n",
        "        print('Final_vol = ' + str(final_vol))\n",
        "        print('MCP = ' + str(mcp))\n",
        "        print('-----------------Answer----------------')\n",
        "        return mcp, final_vol\n",
        "\n",
        "      elif df_bid['Bid'][p] >= df_offer['Offer'][q] and \\\n",
        "          (df_bid['Bid'][p+1] <= df_offer['Offer'][q] or p+1 > df_bid['Bid'].count()-1) and \\\n",
        "          accum_bid_vol <= accum_offer_vol_qm0 and \\\n",
        "          (accum_bid_vol >= accum_offer_vol_qm1 or q-1 < 0):\n",
        "\n",
        "        # Calculate market clearing price\n",
        "        if accum_bid_vol == accum_offer_vol_qm1:\n",
        "          mcp = (df_bid['Bid'][p] + df_offer['Offer'][qmil1]) / 2\n",
        "        else:\n",
        "          mcp = (df_bid['Bid'][p] + df_offer['Offer'][q]) / 2\n",
        "\n",
        "        final_vol = min(accum_bid_vol, accum_offer_vol_qm0)\n",
        "\n",
        "        #bid_zone1_result = matching_result(df_bid, mcp, final_vol)\n",
        "        #offer_zone1_result = matching_result(df_offer, mcp, final_vol)\n",
        "\n",
        "        # Show result\n",
        "        print('Bid_price = ' + str(df_bid['Bid'][p]))\n",
        "        print('Offer_price = ' + str(df_offer['Offer'][q]))\n",
        "        print('Bid_vol = ' + str(accum_bid_vol))\n",
        "        print('Offer_vol = ' + str(accum_offer_vol_qm1))\n",
        "        print('Final_vol = ' + str(final_vol))\n",
        "        print('MCP = ' + str(mcp))\n",
        "        print('-----------------Answer----------------')\n",
        "        return mcp, final_vol\n",
        "\n",
        "      elif df_bid['Bid'][p] == df_offer['Offer'][q] and \\\n",
        "          (df_bid['Bid'][p+1] < df_offer['Offer'][q] or p+1 > df_bid['Bid'].count()-1):\n",
        "\n",
        "\n",
        "        # Calculate market clearing price\n",
        "        if accum_bid_vol > accum_offer_vol_qm0:\n",
        "          mcp = df_bid['Bid'][p]\n",
        "          final_vol = accum_offer_vol_qm0\n",
        "  "
      ],
      "execution_count": null,
      "outputs": []
    },
    {
      "cell_type": "code",
      "metadata": {
        "id": "tIgnbDvdxlgh",
        "colab": {
          "base_uri": "https://localhost:8080/"
        },
        "outputId": "2eac4a48-3d6b-41d5-831a-f5606212302b"
      },
      "source": [
        "mcp, final_vol = matching_engine(df_bid, df_offer)"
      ],
      "execution_count": null,
      "outputs": [
        {
          "output_type": "stream",
          "name": "stdout",
          "text": [
            "Bid_p = 2.51\n",
            "Offer_q = 2.31\n",
            "accum_bid_vol = 50\n",
            "accum_offer_vol_qm1 = 10\n",
            "accum_offer_vol_qm2 = 10\n",
            "---------------------------------------\n",
            "Bid_p = 2.51\n",
            "Offer_q = 2.51\n",
            "accum_bid_vol = 50\n",
            "accum_offer_vol_qm1 = 10\n",
            "accum_offer_vol_qm2 = 10\n",
            "---------------------------------------\n",
            "Bid_price = 2.51\n",
            "Offer_price = 2.31\n",
            "Bid_vol = 50\n",
            "Offer_vol = 10\n",
            "Final_vol = 30\n",
            "MCP = 2.51\n",
            "-----------------Answer----------------\n"
          ]
        }
      ]
    },
    {
      "cell_type": "code",
      "metadata": {
        "id": "g54EBTjke-fN"
      },
      "source": [
        "# Prepare for display in table\n",
        "def matching_result(df, mcp, final_vol):\n",
        "  df_final = df\n",
        "  accum_vol = 0\n",
        "  over = 0\n",
        "\n",
        "  for r in range(0, len(df)):\n",
        "\n",
        "    df_final.iloc[:,0][r] = mcp\n",
        "    accum_vol = accum_vol + df_final.iloc[:,1][r]\n",
        "\n",
        "    if accum_vol > final_vol and over == 0:\n",
        "      df_final.iloc[:,1][r] = final_vol - accum_vol + df.iloc[:,1][r]\n",
        "      over = 1\n",
        "    elif over == 1:\n",
        "      df_final.iloc[:,1][r] = 0\n",
        "    \n",
        "  return df_final"
      ],
      "execution_count": null,
      "outputs": []
    },
    {
      "cell_type": "code",
      "metadata": {
        "id": "nS8b5F1JInwb"
      },
      "source": [
        "df_offer['Offer'][len(df_offer)-1]"
      ],
      "execution_count": null,
      "outputs": []
    },
    {
      "cell_type": "code",
      "metadata": {
        "id": "qEs40_vezxrD"
      },
      "source": [
        "mcp"
      ],
      "execution_count": null,
      "outputs": []
    },
    {
      "cell_type": "code",
      "metadata": {
        "id": "MTOHHXQl_0Dd"
      },
      "source": [
        "# Old version: Prepare for display in table\n",
        "df_bid_final = df_bid\n",
        "df_offer_final = df_offer\n",
        "accum_bid_vol   = 0\n",
        "accum_offer_vol = 0\n",
        "\n",
        "over = 0\n",
        "for r in range(0, len(df_bid)):\n",
        "\n",
        "  accum_bid_vol = accum_bid_vol + df_bid['VBid'][r]\n",
        "\n",
        "  df_bid_final['Bid'][r] = mcp\n",
        "\n",
        "  if accum_bid_vol > final_vol and over == 0:\n",
        "    df_bid_final['VBid'][r] = final_vol - accum_bid_vol + df_bid['VBid'][r]\n",
        "    over = 1\n",
        "  elif over == 1:\n",
        "    df_bid_final['VBid'][r] = 0\n",
        "\n",
        "over = 0\n",
        "for r in range(0, len(df_offer)):\n",
        "\n",
        "  accum_offer_vol = accum_offer_vol + df_offer['VOffer'][r]\n",
        "\n",
        "  df_offer_final['Offer'][r] = mcp\n",
        "\n",
        "  if accum_offer_vol > final_vol and over == 0:\n",
        "    df_offer_final['VOffer'][r] = final_vol - accum_offer_vol + df_offer['VOffer'][r]\n",
        "    over = 1\n",
        "  elif over == 1:\n",
        "    df_offer_final['VOffer'][r] = 0"
      ],
      "execution_count": null,
      "outputs": []
    }
  ]
}